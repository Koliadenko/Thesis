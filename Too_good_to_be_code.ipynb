{
 "cells": [
  {
   "cell_type": "markdown",
   "metadata": {},
   "source": [
    "<h1>Intro</h1>"
   ]
  },
  {
   "cell_type": "code",
   "execution_count": null,
   "metadata": {
    "colab": {
     "base_uri": "https://localhost:8080/"
    },
    "id": "-Wp-km5Ika4f",
    "outputId": "211b1e44-c5c7-4f47-cfcf-808a201276a5"
   },
   "outputs": [],
   "source": [
    "#!pip install yfinance\n",
    "#!pip install yahoofinancials\n",
    "\n",
    "import numpy as np\n",
    "import pandas as pd\n",
    "import yfinance as yf\n",
    "import datetime as dt\n",
    "import matplotlib.pyplot as plt\n",
    "from yahoofinancials import YahooFinancials\n",
    "\n",
    "#import statsmodels.tsa.stattools as ts\n",
    "import statsmodels.formula.api as smf\n",
    "import statsmodels.tsa.api as smt\n",
    "import statsmodels.api as sm\n",
    "import scipy.stats as scs\n",
    "\n",
    "from sklearn.metrics import mean_squared_error\n",
    "from statsmodels.tools.eval_measures import rmse\n",
    "\n",
    "#from pandas import datetime\n",
    "from math import sqrt\n",
    "from statsmodels.tsa.arima_model import ARIMA\n",
    "from statsmodels.tsa.stattools import acf\n",
    "import pmdarima as pm\n",
    "from numpy import inf\n",
    "\n",
    "\n",
    "import warnings\n",
    "warnings.filterwarnings('ignore')"
   ]
  },
  {
   "cell_type": "code",
   "execution_count": null,
   "metadata": {},
   "outputs": [],
   "source": [
    "def forecast_accuracy(forecast, actual):\n",
    "    #clear zeros in actual\n",
    "    #print(forecast, actual)\n",
    "    forecast = np.array([a for a,b in zip(forecast,actual) if b !=0])\n",
    "    actual = np.array([b for b in actual if b !=0])\n",
    "    #print(forecast, actual)\n",
    "    \n",
    "    \n",
    "    mape = np.mean(np.abs(forecast - actual)/np.abs(actual))  # MAPE\n",
    "    me = np.mean(forecast - actual)             # ME\n",
    "    mae = np.mean(np.abs(forecast - actual))    # MAE\n",
    "    mpe = np.mean((forecast - actual)/actual)   # MPE\n",
    "    mse = np.mean((forecast - actual)**2)       # MSE\n",
    "    rmse = mse**.5                              # RMSE\n",
    "    temp_cor1 = forecast.reshape(len(forecast))\n",
    "    temp_cor2 = actual.reshape(len(forecast))\n",
    "    corr = np.corrcoef(temp_cor1, temp_cor2)[0,1]   # corr\n",
    "    mins = np.amin(np.hstack([forecast[:,None], \n",
    "                              actual[:,None]]), axis=1)\n",
    "    maxs = np.amax(np.hstack([forecast[:,None], \n",
    "                              actual[:,None]]), axis=1)\n",
    "    #clean zeros in maxs\n",
    "    mins = np.array([a for a,b in zip(mins,maxs) if b !=0])\n",
    "    maxs = np.array([b for b in maxs if b !=0])\n",
    "    minmax = 1 - np.mean(mins/maxs)             # minmax\n",
    "    acf1 = acf(forecast-actual)[1]              # ACF1\n",
    "    scalar_product = np.sum(forecast*actual)\n",
    "    custom1 = np.sum(np.abs(actual)*np.sign(forecast*actual))\n",
    "    long_income = np.sum(np.abs(actual)*np.sign(forecast*actual)*(np.sign(actual)>0))\n",
    "    short_income = np.sum(np.abs(actual)*np.sign(forecast*actual)*(np.sign(actual)<0))\n",
    "    guess_sign = np.mean(np.sign(forecast*actual)>0)\n",
    "    guess_sign_pos = np.mean((np.sign(forecast*actual)>0)*(np.sign(actual)>0))\n",
    "    guess_sign_pos /= np.mean(np.sign(actual)>0)\n",
    "    guess_sign_neg = np.mean((np.sign(forecast*actual)>0)*(np.sign(actual)<0))\n",
    "    guess_sign_neg /= np.mean(np.sign(actual)<0)\n",
    "    \n",
    "    accuracy = {'mape': mape, 'me': me, 'mae': mae,\n",
    "            'mpe': mpe, 'rmse': rmse,\n",
    "            'corr': corr, 'minmax': minmax, 'scalar product': scalar_product,\n",
    "            'custom1': custom1, 'long_income': long_income, 'short_income': short_income,\n",
    "            'guess_sign': '{:.1%}'.format(guess_sign),\n",
    "            'guess_+': '{:.1%}'.format(guess_sign_pos),\n",
    "            'guess_-': '{:.1%}'.format(guess_sign_neg)}\n",
    "    \n",
    "    for i in accuracy:\n",
    "        print (i,':',accuracy[i])\n",
    "    result = np.array([mape, me, mae, mpe, rmse, corr, minmax, scalar_product, custom1, long_income, short_income,\n",
    "                       guess_sign, guess_sign_pos, guess_sign_neg])\n",
    "    return result"
   ]
  },
  {
   "cell_type": "code",
   "execution_count": null,
   "metadata": {
    "colab": {
     "base_uri": "https://localhost:8080/",
     "height": 499
    },
    "id": "EAx4OLpiO9El",
    "outputId": "fc41fe01-0b24-4320-fe01-1172e9e82e12"
   },
   "outputs": [],
   "source": [
    "#end = dt.datetime.today()\n",
    "end = \"2021-06-01\"\n",
    "start=\"1990-01-01\"\n",
    "#start=\"2004-01-01\"\n",
    "\n",
    "amazon_df = pd.DataFrame(yf.download(\"^DJI\", start=start, end = end)['Adj Close'])\n",
    "'''\n",
    "col_names = [\"TradeDate\",\"PFTS Index\",\"Previous PFTS Index\",\"Variation\",\"Max 52 Weeks Index\",\"Max 52 Weeks Index Date\",\"Min 52 Weeks Index\",\"Min 52 Weeks Index Date\"]\n",
    "amazon_df = pd.read_csv('pfts.csv', names=col_names, sep=';', index_col='TradeDate', skiprows=50, skipfooter = 510)\n",
    "#amazon_df = amazon_df['PFTS Index']\n",
    "amazon_df['PFTS Index'] = amazon_df['PFTS Index'].apply(lambda x: float(x.split()[0].replace(',', '')))\n",
    "print(amazon_df['PFTS Index'])\n",
    "amazon_df['PFTS Index']=amazon_df['PFTS Index'].astype(float)\n",
    "amazon_df = pd.DataFrame(amazon_df['PFTS Index'])\n",
    "#amazon_df = amazon_df.values\n",
    "#amazon_df = [item for sublist in amazon_df for item in sublist]\n",
    "\n",
    "#amazon_df = amazon_df.values\n",
    "'''\n",
    "amazon_df.plot.line(figsize=(20, 8), color = \"darkblue\")\n"
   ]
  },
  {
   "cell_type": "code",
   "execution_count": 32,
   "metadata": {
    "colab": {
     "base_uri": "https://localhost:8080/",
     "height": 482
    },
    "id": "7HM2m9kSO9bC",
    "outputId": "1b347e01-b832-4da4-c12e-8dfca42a2d44"
   },
   "outputs": [
    {
     "data": {
      "text/plain": [
       "<matplotlib.lines.Line2D at 0x7fd796935bd0>"
      ]
     },
     "execution_count": 32,
     "metadata": {},
     "output_type": "execute_result"
    },
    {
     "data": {
      "image/png": "[encoded data removed]",
      "text/plain": [
       "<Figure size 1440x576 with 1 Axes>"
      ]
     },
     "metadata": {
      "needs_background": "light"
     },
     "output_type": "display_data"
    }
   ],
   "source": [
    "amazon_df_chng = np.log(amazon_df / amazon_df.shift(1))\n",
    "amazon_df_chng = amazon_df_chng.dropna()\n",
    "ax = amazon_df_chng.plot(figsize=(20, 8), color='orange')\n",
    "ax.axvline(train.index[-1], color=\"red\", linestyle=\"--\")"
   ]
  },
  {
   "cell_type": "code",
   "execution_count": 33,
   "metadata": {},
   "outputs": [
    {
     "name": "stdout",
     "output_type": "stream",
     "text": [
      "mape : 1130.0812342763259\n",
      "me : 0.999562585557733\n",
      "mae : 0.999562585557733\n",
      "mpe : -247.00807735106818\n",
      "rmse : 0.9996217881471858\n",
      "corr : nan\n",
      "minmax : 0.9995625855577329\n",
      "scalar product : 0.9710600618328693\n",
      "custom1 : 0.9710600618328693\n",
      "long_income : 7.842430560780054\n",
      "short_income : -6.871370498947185\n",
      "guess_sign : 54.9%\n",
      "guess_+ : 100.0%\n",
      "guess_- : 0.0%\n",
      "               Adj Close\n",
      "Date                    \n",
      "2012-07-27  13075.660156\n",
      "2012-07-30  13073.009766\n",
      "2012-07-31  13008.679688\n",
      "2012-08-01  12976.129883\n",
      "2012-08-02  12878.879883\n",
      "...                  ...\n",
      "2021-05-24  34393.980469\n",
      "2021-05-25  34312.460938\n",
      "2021-05-26  34323.050781\n",
      "2021-05-27  34464.640625\n",
      "2021-05-28  34529.449219\n",
      "\n",
      "[2224 rows x 1 columns]\n"
     ]
    }
   ],
   "source": [
    "#print(len(amazon_df_chng))\n",
    "train, test = np.split(amazon_df_chng, [int(.7 *len(amazon_df_chng))])\n",
    "train\n",
    "#traino, testo = np.split(amazon_df, [int(.7 *len(amazon_df_chng))])\n",
    "#print(train)\n",
    "#print(test)\n",
    "rw = amazon_df_chng[-2-int(.3 *len(amazon_df_chng)):-1]\n",
    "#print(rw)\n",
    "np.array(rw).reshape(len(test),1)\n",
    "#print(rw)\n",
    "#temp = [item for sublist in test for item in sublist]\n",
    "temp = test.values\n",
    "#print(temp)\n",
    "tempo = [np.sign(i) for i in temp]\n",
    "tempo = np.array(tempo)\n",
    "tempo.reshape(len(test),1)\n",
    "tempo = np.ones((len(test), 1))\n",
    "#print(tempo)\n",
    "#tempo = [[el] for el in tempo]\n",
    "#print(len(test), len(train), type(tempo), type(temp.values), tempo.shape, temp.values.shape)\n",
    "#tempo[0] = [0]\n",
    "tempo[1] = [1]\n",
    "#tempo[tempo == 0] = inf\n",
    "#print(temp.values, tempo)\n",
    "forecast_accuracy(tempo, temp)\n",
    "trainu, testu = np.split(amazon_df, [int(.7 *len(amazon_df_chng))])\n",
    "print(testu)\n"
   ]
  },
  {
   "cell_type": "code",
   "execution_count": 34,
   "metadata": {
    "colab": {
     "base_uri": "https://localhost:8080/",
     "height": 499
    },
    "id": "OWxkK5poO9u7",
    "outputId": "5977d568-f1a8-4ddc-92db-4d4f5302e981"
   },
   "outputs": [
    {
     "data": {
      "image/png": "[encoded data removed]",
      "text/plain": [
       "<Figure size 864x576 with 2 Axes>"
      ]
     },
     "metadata": {
      "needs_background": "light"
     },
     "output_type": "display_data"
    }
   ],
   "source": [
    "fig = plt.figure(figsize=(12,8))\n",
    "ax1 = fig.add_subplot(211)\n",
    "fig = sm.graphics.tsa.plot_acf(train, lags=40, ax = ax1)   \n",
    "ax2 = fig.add_subplot(212)\n",
    "fig = sm.graphics.tsa.plot_pacf(train, lags=40, ax = ax2)"
   ]
  },
  {
   "cell_type": "code",
   "execution_count": 35,
   "metadata": {},
   "outputs": [
    {
     "name": "stdout",
     "output_type": "stream",
     "text": [
      "2012-07-27 00:00:00\n"
     ]
    },
    {
     "data": {
      "text/plain": [
       "<matplotlib.lines.Line2D at 0x7fd799e806d0>"
      ]
     },
     "execution_count": 35,
     "metadata": {},
     "output_type": "execute_result"
    },
    {
     "data": {
      "image/png": "[encoded data removed]",
      "text/plain": [
       "<Figure size 1440x576 with 1 Axes>"
      ]
     },
     "metadata": {
      "needs_background": "light"
     },
     "output_type": "display_data"
    }
   ],
   "source": [
    "print(train.index[-1])\n",
    "ax = amazon_df.plot.line(figsize=(20, 8), color = \"darkblue\")\n",
    "# you can add here as many lines as you want\n",
    "#ax.axhline(6, color=\"red\", linestyle=\"--\")\n",
    "ax.axvline(train.index[-1], color=\"red\", linestyle=\"--\")"
   ]
  },
  {
   "cell_type": "markdown",
   "metadata": {},
   "source": [
    "<h1>White noise</h1>"
   ]
  },
  {
   "cell_type": "code",
   "execution_count": null,
   "metadata": {},
   "outputs": [],
   "source": [
    "noise = np.random.normal(np.mean(train.values),np.std(train.values),len(test)).reshape(len(test),1)\n",
    "print(np.mean(train.values), np.mean(noise), np.mean(test.values))\n",
    "print(np.std(train.values), np.std(noise), np.std(test.values))\n",
    "print(noise.shape)\n",
    "print(type(noise))\n",
    "print(noise.shape)\n",
    "forecast_accuracy(noise, test.values)"
   ]
  },
  {
   "cell_type": "code",
   "execution_count": null,
   "metadata": {},
   "outputs": [],
   "source": [
    "temp_train = train.values\n",
    "temp_train = [item for sublist in temp_train for item in sublist]\n",
    "temp_test = test.values\n",
    "#temp_test = [item for sublist in temp_test for item in sublist]\n",
    "history = [x for x in temp_train]\n",
    "predict_wn_test = list()"
   ]
  },
  {
   "cell_type": "code",
   "execution_count": null,
   "metadata": {},
   "outputs": [],
   "source": [
    "import time\n",
    "start_time = time.time()\n",
    "\n",
    "for t in range(len(temp_test)):\n",
    "    noise = np.random.normal(np.mean(history),np.std(history),1)[0]\n",
    "    #print(noise)\n",
    "    predict_wn_test.append(noise)\n",
    "    obs = temp_test[t]\n",
    "    history.append(obs)\n",
    "    if t%100 == 0:\n",
    "        print(t)\n",
    "    #print('predicted=%f, expected=%f' % (yhat, obs))\n",
    "\n",
    "print(\"--- %s seconds ---\" % (time.time() - start_time))"
   ]
  },
  {
   "cell_type": "code",
   "execution_count": null,
   "metadata": {},
   "outputs": [],
   "source": [
    "#print(predict_wn_test)\n",
    "#predict_wn_test = [item for sublist in predict_wn_test for item in sublist]\n",
    "print(predict_wn_test)\n",
    "\n",
    "\n",
    "\n",
    "# evaluate forecasts\n",
    "temp_test = np.array(temp_test).reshape(len(temp_test),1)\n",
    "predict_wn_test = np.array(predict_wn_test).reshape(len(temp_test),1)\n",
    "forecast_accuracy(predict_wn_test, temp_test)\n",
    "forecast_accuracy(tempo, predict_wn_test)\n",
    "# plot forecasts against actual outcomes\n",
    "plt.plot(temp_test)\n",
    "plt.plot(predict_wn_test, color='red')\n",
    "plt.show()\n"
   ]
  },
  {
   "cell_type": "code",
   "execution_count": null,
   "metadata": {},
   "outputs": [],
   "source": [
    "result_list = []\n",
    "repetition = 1000\n",
    "for i in range(repetition):\n",
    "    \n",
    "    noise = np.random.normal(np.mean(train.values),np.std(train.values),len(test)).reshape(len(test),1)\n",
    "    #forecast_accuracy(noise, test.values)\n",
    "    result_list.append(forecast_accuracy(noise, test.values))\n",
    "\n",
    "result_av = []\n",
    "#print(result_av)\n",
    "for k in range(14):\n",
    "    temp = 0\n",
    "    for j in range(repetition):\n",
    "        temp += result_list[j][k]\n",
    "    result_av.append(temp/repetition)\n",
    "print(result_av)    \n",
    "\n",
    "accuracy = {'mape': result_av[0], 'me': result_av[1], 'mae': result_av[2],\n",
    "            'mpe': result_av[3], 'rmse': result_av[4],\n",
    "            'corr': result_av[5], 'minmax': result_av[6], 'scalar product': result_av[7],\n",
    "            'custom': result_av[8], 'long income': result_av[9], 'short_income': result_av[10], 'guess_sign': '{:.1%}'.format(result_av[11]),\n",
    "           'guess_+': '{:.1%}'.format(result_av[12]), 'guess_-': '{:.1%}'.format(result_av[13])}\n",
    "for i in accuracy:\n",
    "    print (i,':',accuracy[i])"
   ]
  },
  {
   "cell_type": "markdown",
   "metadata": {},
   "source": [
    "<h3>Commented<h3>"
   ]
  },
  {
   "cell_type": "code",
   "execution_count": null,
   "metadata": {},
   "outputs": [],
   "source": [
    "'''\n",
    "from statsmodels.tsa.arima_model import ARIMA\n",
    "import itertools\n",
    "# Grid Search\n",
    "p = d = q = range(0,3) # p, d, and q can be either 0, 1, or 2\n",
    "pdq = list(itertools.product(p,d,q)) # gets all possible combinations of p, d, and q\n",
    "combs = {} # stores bic and order pairs\n",
    "bics = [] # stores bics\n",
    "# Grid Search continued\n",
    "for combination in pdq:\n",
    "    try:\n",
    "        model = ARIMA(amazon_df_chng, order=combination) # create all possible models\n",
    "        model = model.fit()\n",
    "        combs.update({model.bic : combination}) # store combinations\n",
    "        bics.append(model.bic)\n",
    "    except:\n",
    "        continue\n",
    "        \n",
    "best_bic = min(bics)\n",
    "\n",
    "# Model Creation and Forecasting\n",
    "model = ARIMA(amazon_df_chng, order=combs[best_bic])\n",
    "model = model.fit()\n",
    "model.forecast(7)[0]\n",
    "print(model.bic)\n",
    "print(model.summary())\n",
    "'''"
   ]
  },
  {
   "cell_type": "markdown",
   "metadata": {},
   "source": [
    "<h1>Arima<h1>"
   ]
  },
  {
   "cell_type": "code",
   "execution_count": null,
   "metadata": {
    "colab": {
     "base_uri": "https://localhost:8080/"
    },
    "id": "lmNEB4cehpz8",
    "outputId": "8308569f-67e8-447b-cb12-42b01356d507"
   },
   "outputs": [],
   "source": [
    "from itertools import product\n",
    "# setting initial values and some bounds for them\n",
    "ps = range(0, 8)\n",
    "ds = range(0, 2)\n",
    "qs = range(0, 8)\n",
    "\n",
    "\n",
    "# creating list with all the possible combinations of parameters\n",
    "parameters = product(ps, ds, qs)\n",
    "parameters_list = list(parameters)\n",
    "len(parameters_list)"
   ]
  },
  {
   "cell_type": "code",
   "execution_count": null,
   "metadata": {
    "id": "m0sHLwlehqdW"
   },
   "outputs": [],
   "source": [
    "def optimizeARIMA(input, parameters_list):\n",
    "    \"\"\"\n",
    "        Return dataframe with parameters and corresponding AIC\n",
    "        \n",
    "        parameters_list - list with (p, q, P, Q) tuples\n",
    "        d - integration order in ARIMA model\n",
    "        D - seasonal integration order \n",
    "        s - length of season\n",
    "    \"\"\"\n",
    "    \n",
    "    results = []\n",
    "    best_bic = float(\"inf\")\n",
    "\n",
    "    for param in tqdm_notebook(parameters_list):\n",
    "        # we need try-except because on some combinations model fails to converge\n",
    "        try:\n",
    "            model=ARIMA(input, order=(param[0], param[1], param[2])).fit(disp=1)\n",
    "        except:\n",
    "            continue\n",
    "        bic = model.bic\n",
    "        # saving best model, BIC and parameters\n",
    "        if bic < best_bic:\n",
    "            best_model = model\n",
    "            best_bic = bic\n",
    "            best_param = param\n",
    "        results.append([param, model.bic, model.aic])\n",
    "    print(results)\n",
    "    result_table = pd.DataFrame(results)\n",
    "\n",
    "    result_table.columns = ['parameters', 'bic', 'aic']\n",
    "\n",
    "    # sorting in ascending order, the lower BIC is - the better\n",
    "    result_table = result_table.sort_values(by='bic', ascending=True).reset_index(drop=True)\n",
    "    \n",
    "    return result_table"
   ]
  },
  {
   "cell_type": "code",
   "execution_count": null,
   "metadata": {
    "colab": {
     "base_uri": "https://localhost:8080/",
     "height": 103,
     "referenced_widgets": [
      "457e95926c0c4a12bfee72c5a9b2c6b5",
      "11a6fe20f77a43b6b60252882ca12008",
      "9d1f7f7043214e02b959759c3e6db75f",
      "8657382301fa40f6bdf75e063e817676",
      "782c9b5a0e974f72a0468d8fa2d2e502",
      "20611681f4484113a1accb79ee937ff7",
      "1e4578d5c49a41c793bdc476a6c9843b",
      "668ca340833548cbb7e5518583dc22bd"
     ]
    },
    "id": "pUb1pHpjirlK",
    "outputId": "06ba96c0-cbb4-4d53-9364-e1b7f950e5e3"
   },
   "outputs": [],
   "source": [
    "from tqdm import tqdm_notebook\n",
    "\n",
    "#%%time\n",
    "result_table = optimizeARIMA(train, parameters_list)"
   ]
  },
  {
   "cell_type": "code",
   "execution_count": null,
   "metadata": {
    "colab": {
     "base_uri": "https://localhost:8080/"
    },
    "id": "7wjDldhho6Of",
    "outputId": "bd1f1ada-13f6-402b-9020-9d89ea0baa73"
   },
   "outputs": [],
   "source": [
    "print(result_table)"
   ]
  },
  {
   "cell_type": "code",
   "execution_count": null,
   "metadata": {
    "colab": {
     "base_uri": "https://localhost:8080/"
    },
    "id": "zbc3sw-eFoLK",
    "outputId": "94573efa-4151-4a24-a9ac-d152a17a3316"
   },
   "outputs": [],
   "source": [
    "model_arima_train = ARIMA(train, order=(1,0,1))\n",
    "model_fit_arima_train = model_arima_train.fit(disp=0)\n",
    "print(model_fit_arima_train.aic)\n",
    "print(model_fit_arima_train.summary())"
   ]
  },
  {
   "cell_type": "code",
   "execution_count": null,
   "metadata": {
    "colab": {
     "base_uri": "https://localhost:8080/",
     "height": 1000
    },
    "id": "4gEDs7bVGxP6",
    "outputId": "3e60ce51-9621-4a82-e5d4-070a5d2f25fa",
    "scrolled": true
   },
   "outputs": [],
   "source": [
    "residuals_arima_train = pd.DataFrame(model_fit_arima_train.resid)\n",
    "fig, ax = plt.subplots(1,2)\n",
    "residuals_arima_train.plot(title=\"Residuals\", ax=ax[0])\n",
    "residuals_arima_train.plot(kind='kde', title='Density', ax=ax[1])\n",
    "plt.show()"
   ]
  },
  {
   "cell_type": "code",
   "execution_count": null,
   "metadata": {},
   "outputs": [],
   "source": [
    "model_arima_test = ARIMA(test, order=(0,0,0))\n",
    "model_fit_arima_test = model_arima_test.fit(disp=0)\n",
    "print(model_fit_arima_test.aic)\n",
    "print(model_fit_arima_test.summary())"
   ]
  },
  {
   "cell_type": "code",
   "execution_count": null,
   "metadata": {},
   "outputs": [],
   "source": [
    "residuals_arima_test = pd.DataFrame(model_fit_arima_test.resid)\n",
    "\n",
    "#print(residuals_arima_test)\n",
    "residuals_arima_test = residuals_arima_test.to_numpy()\n",
    "print(residuals_arima_test)\n",
    "residuals_arima_test = [item for sublist in residuals_arima_test for item in sublist]\n",
    "print(residuals_arima_test)"
   ]
  },
  {
   "cell_type": "code",
   "execution_count": null,
   "metadata": {
    "colab": {
     "base_uri": "https://localhost:8080/",
     "height": 897
    },
    "id": "q5TG1bulG5Mj",
    "outputId": "d1d89e40-5299-4e51-a179-c1c2a119e1c8"
   },
   "outputs": [],
   "source": [
    "model_fit.plot_predict(dynamic=False)\n",
    "\n",
    "leg = plt.legend()\n",
    "# get the individual lines inside legend and set line width\n",
    "for line in leg.get_lines():\n",
    "    line.set_linewidth(1)\n",
    "plt.rcParams[\"figure.figsize\"] = (40,30)\n",
    "plt.show()"
   ]
  },
  {
   "cell_type": "markdown",
   "metadata": {},
   "source": [
    "<h2>Restricted ARIMA<h2>"
   ]
  },
  {
   "cell_type": "markdown",
   "metadata": {},
   "source": [
    "<h5>AR  2<h5>"
   ]
  },
  {
   "cell_type": "code",
   "execution_count": null,
   "metadata": {
    "scrolled": true
   },
   "outputs": [],
   "source": [
    "#model_restricted_train = sm.tsa.statespace.SARIMAX(train, order=((0,0,0,0,0,1),0,0))\n",
    "model_restricted_train = ARIMA(history, order=(1,0,1))\n",
    "model_fit_restricted_train = model_restricted_train.fit(disp=0)\n",
    "print(model_fit_restricted_train.bic)\n",
    "print(model_fit_restricted_train.summary())"
   ]
  },
  {
   "cell_type": "code",
   "execution_count": 17,
   "metadata": {
    "colab": {
     "base_uri": "https://localhost:8080/",
     "height": 1000
    },
    "id": "4gEDs7bVGxP6",
    "outputId": "3e60ce51-9621-4a82-e5d4-070a5d2f25fa",
    "scrolled": true
   },
   "outputs": [
    {
     "ename": "NameError",
     "evalue": "name 'model_fit_restricted_train' is not defined",
     "output_type": "error",
     "traceback": [
      "\u001b[0;31m---------------------------------------------------------------------------\u001b[0m",
      "\u001b[0;31mNameError\u001b[0m                                 Traceback (most recent call last)",
      "\u001b[0;32m<ipython-input-17-363a9eb4bc21>\u001b[0m in \u001b[0;36m<module>\u001b[0;34m\u001b[0m\n\u001b[0;32m----> 1\u001b[0;31m \u001b[0mresiduals_restricted_train\u001b[0m \u001b[0;34m=\u001b[0m \u001b[0mpd\u001b[0m\u001b[0;34m.\u001b[0m\u001b[0mDataFrame\u001b[0m\u001b[0;34m(\u001b[0m\u001b[0mmodel_fit_restricted_train\u001b[0m\u001b[0;34m.\u001b[0m\u001b[0mresid\u001b[0m\u001b[0;34m)\u001b[0m\u001b[0;34m\u001b[0m\u001b[0;34m\u001b[0m\u001b[0m\n\u001b[0m\u001b[1;32m      2\u001b[0m \u001b[0mfig\u001b[0m\u001b[0;34m,\u001b[0m \u001b[0max\u001b[0m \u001b[0;34m=\u001b[0m \u001b[0mplt\u001b[0m\u001b[0;34m.\u001b[0m\u001b[0msubplots\u001b[0m\u001b[0;34m(\u001b[0m\u001b[0;36m1\u001b[0m\u001b[0;34m,\u001b[0m\u001b[0;36m2\u001b[0m\u001b[0;34m)\u001b[0m\u001b[0;34m\u001b[0m\u001b[0;34m\u001b[0m\u001b[0m\n\u001b[1;32m      3\u001b[0m \u001b[0mresiduals_restricted_train\u001b[0m\u001b[0;34m.\u001b[0m\u001b[0mplot\u001b[0m\u001b[0;34m(\u001b[0m\u001b[0mtitle\u001b[0m\u001b[0;34m=\u001b[0m\u001b[0;34m\"Residuals\"\u001b[0m\u001b[0;34m,\u001b[0m \u001b[0max\u001b[0m\u001b[0;34m=\u001b[0m\u001b[0max\u001b[0m\u001b[0;34m[\u001b[0m\u001b[0;36m0\u001b[0m\u001b[0;34m]\u001b[0m\u001b[0;34m)\u001b[0m\u001b[0;34m\u001b[0m\u001b[0;34m\u001b[0m\u001b[0m\n\u001b[1;32m      4\u001b[0m \u001b[0mresiduals_restricted_train\u001b[0m\u001b[0;34m.\u001b[0m\u001b[0mplot\u001b[0m\u001b[0;34m(\u001b[0m\u001b[0mkind\u001b[0m\u001b[0;34m=\u001b[0m\u001b[0;34m'kde'\u001b[0m\u001b[0;34m,\u001b[0m \u001b[0mtitle\u001b[0m\u001b[0;34m=\u001b[0m\u001b[0;34m'Density'\u001b[0m\u001b[0;34m,\u001b[0m \u001b[0max\u001b[0m\u001b[0;34m=\u001b[0m\u001b[0max\u001b[0m\u001b[0;34m[\u001b[0m\u001b[0;36m1\u001b[0m\u001b[0;34m]\u001b[0m\u001b[0;34m)\u001b[0m\u001b[0;34m\u001b[0m\u001b[0;34m\u001b[0m\u001b[0m\n\u001b[1;32m      5\u001b[0m \u001b[0mplt\u001b[0m\u001b[0;34m.\u001b[0m\u001b[0mshow\u001b[0m\u001b[0;34m(\u001b[0m\u001b[0;34m)\u001b[0m\u001b[0;34m\u001b[0m\u001b[0;34m\u001b[0m\u001b[0m\n",
      "\u001b[0;31mNameError\u001b[0m: name 'model_fit_restricted_train' is not defined"
     ]
    }
   ],
   "source": [
    "residuals_restricted_train = pd.DataFrame(model_fit_restricted_train.resid)\n",
    "fig, ax = plt.subplots(1,2)\n",
    "residuals_restricted_train.plot(title=\"Residuals\", ax=ax[0])\n",
    "residuals_restricted_train.plot(kind='kde', title='Density', ax=ax[1])\n",
    "plt.show()"
   ]
  },
  {
   "cell_type": "code",
   "execution_count": 18,
   "metadata": {},
   "outputs": [],
   "source": [
    "temp_train = train.values\n",
    "#temp_train = [item for sublist in temp_train for item in sublist]\n",
    "temp_test = test.values\n",
    "#temp_test = [item for sublist in temp_test for item in sublist]\n",
    "history = [x for x in temp_train]\n",
    "predict_restricted_test = list()\n",
    "residuals_restricted_test = []"
   ]
  },
  {
   "cell_type": "code",
   "execution_count": null,
   "metadata": {},
   "outputs": [],
   "source": [
    "import time\n",
    "start_time = time.time()\n",
    "\n",
    "for t in range(len(temp_test)):\n",
    "    #model = sm.tsa.statespace.SARIMAX(train, order=((0,0,0,0,0,1),0,0))\n",
    "    model = ARIMA(history, order=(1,0,1))\n",
    "    model_fit = model.fit()\n",
    "    output = model_fit.forecast()\n",
    "    yhat = output[0]\n",
    "    predict_restricted_test.append(yhat)\n",
    "    obs = temp_test[t]\n",
    "    history.append(obs)\n",
    "    if t%100 == 0:\n",
    "        print(t)\n",
    "    #print('predicted=%f, expected=%f' % (yhat, obs))\n",
    "    residuals_restricted_test.append(obs-yhat)\n",
    "\n",
    "print(\"--- %s seconds ---\" % (time.time() - start_time))"
   ]
  },
  {
   "cell_type": "code",
   "execution_count": 19,
   "metadata": {},
   "outputs": [
    {
     "ename": "ValueError",
     "evalue": "cannot reshape array of size 0 into shape (2223,1)",
     "output_type": "error",
     "traceback": [
      "\u001b[0;31m---------------------------------------------------------------------------\u001b[0m",
      "\u001b[0;31mValueError\u001b[0m                                Traceback (most recent call last)",
      "\u001b[0;32m<ipython-input-19-e3812558e1ed>\u001b[0m in \u001b[0;36m<module>\u001b[0;34m\u001b[0m\n\u001b[1;32m      1\u001b[0m \u001b[0;31m# evaluate forecasts\u001b[0m\u001b[0;34m\u001b[0m\u001b[0;34m\u001b[0m\u001b[0;34m\u001b[0m\u001b[0m\n\u001b[0;32m----> 2\u001b[0;31m \u001b[0mresiduals_restricted_test\u001b[0m \u001b[0;34m=\u001b[0m \u001b[0mnp\u001b[0m\u001b[0;34m.\u001b[0m\u001b[0marray\u001b[0m\u001b[0;34m(\u001b[0m\u001b[0mresiduals_restricted_test\u001b[0m\u001b[0;34m)\u001b[0m\u001b[0;34m.\u001b[0m\u001b[0mreshape\u001b[0m\u001b[0;34m(\u001b[0m\u001b[0mlen\u001b[0m\u001b[0;34m(\u001b[0m\u001b[0mtemp_test\u001b[0m\u001b[0;34m)\u001b[0m\u001b[0;34m,\u001b[0m\u001b[0;36m1\u001b[0m\u001b[0;34m)\u001b[0m\u001b[0;34m\u001b[0m\u001b[0;34m\u001b[0m\u001b[0m\n\u001b[0m\u001b[1;32m      3\u001b[0m \u001b[0mtemp_test\u001b[0m \u001b[0;34m=\u001b[0m \u001b[0mnp\u001b[0m\u001b[0;34m.\u001b[0m\u001b[0marray\u001b[0m\u001b[0;34m(\u001b[0m\u001b[0mtemp_test\u001b[0m\u001b[0;34m)\u001b[0m\u001b[0;34m.\u001b[0m\u001b[0mreshape\u001b[0m\u001b[0;34m(\u001b[0m\u001b[0mlen\u001b[0m\u001b[0;34m(\u001b[0m\u001b[0mtemp_test\u001b[0m\u001b[0;34m)\u001b[0m\u001b[0;34m,\u001b[0m\u001b[0;36m1\u001b[0m\u001b[0;34m)\u001b[0m\u001b[0;34m\u001b[0m\u001b[0;34m\u001b[0m\u001b[0m\n\u001b[1;32m      4\u001b[0m \u001b[0mpredict_restricted_test\u001b[0m \u001b[0;34m=\u001b[0m \u001b[0mnp\u001b[0m\u001b[0;34m.\u001b[0m\u001b[0marray\u001b[0m\u001b[0;34m(\u001b[0m\u001b[0mpredict_restricted_test\u001b[0m\u001b[0;34m)\u001b[0m\u001b[0;34m.\u001b[0m\u001b[0mreshape\u001b[0m\u001b[0;34m(\u001b[0m\u001b[0mlen\u001b[0m\u001b[0;34m(\u001b[0m\u001b[0mtemp_test\u001b[0m\u001b[0;34m)\u001b[0m\u001b[0;34m,\u001b[0m\u001b[0;36m1\u001b[0m\u001b[0;34m)\u001b[0m\u001b[0;34m\u001b[0m\u001b[0;34m\u001b[0m\u001b[0m\n\u001b[1;32m      5\u001b[0m \u001b[0mforecast_accuracy\u001b[0m\u001b[0;34m(\u001b[0m\u001b[0mpredict_restricted_test\u001b[0m\u001b[0;34m,\u001b[0m \u001b[0mtemp_test\u001b[0m\u001b[0;34m)\u001b[0m\u001b[0;34m\u001b[0m\u001b[0;34m\u001b[0m\u001b[0m\n",
      "\u001b[0;31mValueError\u001b[0m: cannot reshape array of size 0 into shape (2223,1)"
     ]
    }
   ],
   "source": [
    "# evaluate forecasts\n",
    "residuals_restricted_test = np.array(residuals_restricted_test).reshape(len(temp_test),1)\n",
    "temp_test = np.array(temp_test).reshape(len(temp_test),1)\n",
    "predict_restricted_test = np.array(predict_restricted_test).reshape(len(temp_test),1)\n",
    "forecast_accuracy(predict_restricted_test, temp_test)\n",
    "# plot forecasts against actual outcomes\n",
    "plt.plot(temp_test)\n",
    "plt.plot(predict_restricted_test, color='red')\n",
    "plt.show()"
   ]
  },
  {
   "cell_type": "code",
   "execution_count": 20,
   "metadata": {},
   "outputs": [
    {
     "name": "stdout",
     "output_type": "stream",
     "text": [
      "            Adj Close\n",
      "Date                 \n",
      "2012-07-30  -0.000203\n",
      "2012-07-31  -0.004933\n",
      "2012-08-01  -0.002505\n",
      "2012-08-02  -0.007523\n",
      "2012-08-03   0.016731\n",
      "...               ...\n",
      "2021-05-24   0.005427\n",
      "2021-05-25  -0.002373\n",
      "2021-05-26   0.000309\n",
      "2021-05-27   0.004117\n",
      "2021-05-28   0.001879\n",
      "\n",
      "[2223 rows x 1 columns]\n",
      "[]\n"
     ]
    }
   ],
   "source": [
    "#residuals_restricted_test = np.subtract(test, predictions)\n",
    "print(test)\n",
    "#print(predictions)\n",
    "print(residuals_restricted_test)\n",
    "#residuals_restricted_test = residuals_restricted_test.to_numpy()\n",
    "#residuals_restricted_test = [item for sublist in residuals_restricted_test for item in sublist]"
   ]
  },
  {
   "cell_type": "markdown",
   "metadata": {},
   "source": [
    "<h1>Machine Learnin'</h1>"
   ]
  },
  {
   "cell_type": "code",
   "execution_count": 36,
   "metadata": {},
   "outputs": [],
   "source": [
    "from numpy import array\n",
    "from keras.models import Sequential\n",
    "from keras.layers import Dense\n",
    "from keras.layers import LSTM\n",
    " \n",
    "# split a univariate sequence into samples\n",
    "def split_sequence(sequence, n_steps):\n",
    "\tX, y = list(), list()\n",
    "\tfor i in range(len(sequence)):\n",
    "\t\t# find the end of this pattern\n",
    "\t\tend_ix = i + n_steps\n",
    "\t\t# check if we are beyond the sequence\n",
    "\t\tif end_ix > len(sequence)-1:\n",
    "\t\t\tbreak\n",
    "\t\t# gather input and output parts of the pattern\n",
    "\t\tseq_x, seq_y = sequence[i:end_ix], sequence[end_ix]\n",
    "\t\tX.append(seq_x)\n",
    "\t\ty.append(seq_y)\n",
    "\treturn array(X), array(y)\n",
    "\n",
    "# define input sequence\n",
    "# hybrid\n",
    "#raw_seq = residuals_restricted_train.to_numpy()\n",
    "#print(residuals_restricted_train)\n",
    "# vanilla\n",
    "raw_seq = train.to_numpy()\n",
    "raw_seq = [item for sublist in raw_seq for item in sublist]\n"
   ]
  },
  {
   "cell_type": "markdown",
   "metadata": {},
   "source": [
    "<h2>MLP 3 - 8 - 1<h2>"
   ]
  },
  {
   "cell_type": "code",
   "execution_count": 24,
   "metadata": {
    "colab": {
     "base_uri": "https://localhost:8080/"
    },
    "id": "MqgAQKzEFmy-",
    "outputId": "61d30bbd-96c4-42f6-f2b0-eb77ddc2bf7f"
   },
   "outputs": [
    {
     "name": "stdout",
     "output_type": "stream",
     "text": [
      "--- 3.564591884613037 seconds ---\n",
      "Model: \"sequential_1\"\n",
      "_________________________________________________________________\n",
      "Layer (type)                 Output Shape              Param #   \n",
      "=================================================================\n",
      "dense_2 (Dense)              (None, 12)                72        \n",
      "_________________________________________________________________\n",
      "dense_3 (Dense)              (None, 1)                 13        \n",
      "=================================================================\n",
      "Total params: 85\n",
      "Trainable params: 85\n",
      "Non-trainable params: 0\n",
      "_________________________________________________________________\n",
      "None\n"
     ]
    }
   ],
   "source": [
    "# choose a number of time steps\n",
    "n_steps = 5\n",
    "# split into samples\n",
    "X, y = split_sequence(raw_seq, n_steps)\n",
    "\n",
    "# define model\n",
    "model_3_8 = Sequential()\n",
    "model_3_8.add(Dense(12, activation='relu', input_dim=n_steps))\n",
    "model_3_8.add(Dense(1))\n",
    "model_3_8.compile(optimizer='adam', loss='mse')\n",
    "\n",
    "import time\n",
    "start_time = time.time()\n",
    "\n",
    "# fit model\n",
    "model_3_8.fit(X, y, epochs=20, verbose=0)\n",
    "\n",
    "print(\"--- %s seconds ---\" % (time.time() - start_time))\n",
    "print(model_3_8.summary())\n"
   ]
  },
  {
   "cell_type": "markdown",
   "metadata": {},
   "source": [
    "<h3>Validation<h3>"
   ]
  },
  {
   "cell_type": "code",
   "execution_count": 29,
   "metadata": {
    "scrolled": false
   },
   "outputs": [
    {
     "name": "stdout",
     "output_type": "stream",
     "text": [
      "mape : 1.3035417181254931\n",
      "me : -0.0007193341867515708\n",
      "mae : 0.006661689477764879\n",
      "mpe : -0.8660680855948052\n",
      "rmse : 0.010864960373502555\n",
      "corr : 0.09729647328881762\n",
      "minmax : 106.9198422176001\n",
      "scalar product : 0.003486608127891111\n",
      "custom1 : 0.3232674429089677\n",
      "long_income : -2.386713089524041\n",
      "short_income : 2.7099805324330086\n",
      "guess_sign : 48.7%\n",
      "guess_+ : 25.0%\n",
      "guess_- : 77.6%\n"
     ]
    },
    {
     "data": {
      "image/png": "[encoded data removed]",
      "text/plain": [
       "<Figure size 432x288 with 1 Axes>"
      ]
     },
     "metadata": {
      "needs_background": "light"
     },
     "output_type": "display_data"
    }
   ],
   "source": [
    "# RABOTAET!!!\n",
    "\n",
    "# vanilla\n",
    "tail_test = temp_test\n",
    "# hybrid\n",
    "#tail_test = residuals_restricted_test\n",
    "\n",
    "tail_test = [item for sublist in tail_test for item in sublist]\n",
    "\n",
    "temp_resid = raw_seq[-n_steps:]+tail_test\n",
    "#print(temp_test)\n",
    "X, y = split_sequence(temp_resid, n_steps)\n",
    "mlp_8_predict = model_3_8.predict(X, verbose=0)\n",
    "mlp_8_predict_list = [item for sublist in mlp_8_predict for item in sublist]\n",
    "mlp_8_predict_list = np.array(mlp_8_predict_list).reshape(len(temp_test),1)\n",
    "\n",
    "tail_test = np.array(tail_test).reshape(len(temp_test),1)\n",
    "\n",
    "# vanilla\n",
    "result_8_predict = mlp_8_predict_list\n",
    "# hybrid\n",
    "#result_8_predict = np.add(mlp_8_predict_list, predict_restricted_test)\n",
    "\n",
    "forecast_accuracy(result_8_predict, tail_test)\n",
    "\n",
    "#print(temp_test, residuals_restricted_test, predict_restricted_test, mlp_8_predict_list, hybrid_mlp_8_predict_list)\n",
    "#print(temp_test.shape, forecast_restricted_test.shape, residuals_restricted_test.shape,\n",
    "#      mlp_8_predict_list.shape, mlp_8_predict_list+forecast_restricted_test.shape, hybrid_mlp_8_predict_list.shape)\n",
    "\n",
    "\n",
    "\n",
    "plt.plot(tail_test)\n",
    "plt.plot(result_8_predict, color='red')\n",
    "plt.show()"
   ]
  },
  {
   "cell_type": "code",
   "execution_count": 38,
   "metadata": {},
   "outputs": [
    {
     "name": "stdout",
     "output_type": "stream",
     "text": [
      "--- 4.199915170669556 seconds ---\n",
      "dict_keys(['loss'])\n"
     ]
    }
   ],
   "source": [
    "from __future__ import division\n",
    "def mean(a):\n",
    "    return sum(a) / len(a)\n",
    "a = [[240, 240, 239],\n",
    "     [250, 249, 237], \n",
    "     [242, 239, 237],\n",
    "     [240, 234, 233]]\n",
    "\n",
    "\n",
    "opti_repetition = 1\n",
    "aggregate = []\n",
    "\n",
    "for i in range(opti_repetition):\n",
    "    # choose a number of time steps\n",
    "    n_steps = 5\n",
    "    # split into samples\n",
    "    X, y = split_sequence(raw_seq, n_steps)\n",
    "    n_features = 1\n",
    "    #X = X.reshape((X.shape[0], X.shape[1], n_features))\n",
    "    \n",
    "    # define model\n",
    "    model_3_8 = Sequential()\n",
    "    model_3_8.add(Dense(12, activation='relu', input_dim=n_steps))\n",
    "    model_3_8.add(Dense(1))\n",
    "    model_3_8.compile(optimizer='adam', loss='mse')\n",
    "\n",
    "    #tail_test = temp_test\n",
    "    tail_test = residuals_restricted_test\n",
    "\n",
    "    tail_test = [item for sublist in tail_test for item in sublist]\n",
    "\n",
    "    temp_resid = raw_seq[-n_steps:]+tail_test\n",
    "\n",
    "    X_test, Y_test = split_sequence(temp_resid, n_steps)\n",
    "    #X_test = X_test.reshape((X_test.shape[0], X_test.shape[1], n_features))\n",
    "    \n",
    "    import time\n",
    "    start_time = time.time()\n",
    "\n",
    "    # fit model\n",
    "    train_history = model_3_8.fit(X, y, epochs=20, verbose=0, validation_data=(X_test, Y_test))\n",
    "\n",
    "    print(\"--- %s seconds ---\" % (time.time() - start_time))\n",
    "    #print(model_3_8.summary())\n",
    "    \n",
    "    losses_lstm = model_3_8.history.history['loss']\n",
    "    #plt.figure(figsize=(12,4))\n",
    "    #plt.xlabel(\"Epochs\")\n",
    "    #plt.ylabel(\"Loss\")\n",
    "    #plt.xticks(np.arange(0,len(losses_lstm)+1,1))\n",
    "    #plt.plot(range(len(losses_lstm)),losses_lstm);\n",
    "    \n",
    "    loss = train_history.history['loss']\n",
    "    #val_loss = train_history.history['val_loss']\n",
    "    #print(type(train_history.history['val_loss']))\n",
    "    #t = pd.Series(val_loss)\n",
    "    #aggregate.append(list(t))\n",
    "    print(train_history.history.keys())\n",
    "\n",
    "    #plt.plot(loss)\n",
    "    #plt.plot(t)\n",
    "    #plt.legend([ 'val_loss'])\n",
    "    #plt.show()\n",
    "    \n"
   ]
  },
  {
   "cell_type": "code",
   "execution_count": null,
   "metadata": {},
   "outputs": [],
   "source": [
    "print(len(temp_test))\n",
    "avg = [float(sum(col))/len(col) for col in zip(*aggregate)]\n",
    "t = pd.Series(avg)\n",
    "t = t.rolling(window=3, center=True).mean()\n",
    "plt.plot(t)\n",
    "'''from statistics import mean\n",
    "\n",
    "aggregate_ready = map(mean, zip(*aggregate))\n",
    "#print(*aggregate_ready)\n",
    "r = np.array(*aggregate_ready)\n",
    "print(r)\n",
    "#print(*map(mean, zip(*aggregate)))'''"
   ]
  },
  {
   "cell_type": "markdown",
   "metadata": {},
   "source": [
    "<h2>MLP 5 - 12 - 1<h2>"
   ]
  },
  {
   "cell_type": "code",
   "execution_count": null,
   "metadata": {
    "colab": {
     "base_uri": "https://localhost:8080/"
    },
    "id": "MqgAQKzEFmy-",
    "outputId": "61d30bbd-96c4-42f6-f2b0-eb77ddc2bf7f"
   },
   "outputs": [],
   "source": [
    "# choose a number of time steps\n",
    "n_steps = 5\n",
    "# split into samples\n",
    "X, y = split_sequence(raw_seq, n_steps)\n",
    "# define model\n",
    "model_5_12 = Sequential()\n",
    "model_5_12.add(Dense(12, activation='relu', input_dim=n_steps))\n",
    "model_5_12.add(Dense(1))\n",
    "model_5_12.compile(optimizer='adam', loss='mse')\n",
    "\n",
    "import time\n",
    "start_time = time.time()\n",
    "\n",
    "# fit model\n",
    "model_5_12.fit(X, y, epochs=2000, verbose=0)\n",
    "\n",
    "print(\"--- %s seconds ---\" % (time.time() - start_time))"
   ]
  },
  {
   "cell_type": "markdown",
   "metadata": {},
   "source": [
    "<h3>Validation<h3>"
   ]
  },
  {
   "cell_type": "code",
   "execution_count": null,
   "metadata": {},
   "outputs": [],
   "source": [
    "# not really\n",
    "#residuals_test = test.to_numpy()\n",
    "#residuals_test = [item for sublist in residuals_test for item in sublist]\n",
    "temp_resid = raw_seq[-n_steps:]+residuals_restricted_test\n",
    "print(raw_seq[-n_steps:])\n",
    "X, y = split_sequence(temp_resid, n_steps)\n",
    "print(X)\n",
    "mlp_12_predict = model_5_12.predict(X, verbose=0)\n",
    "mlp_12_predict_list = [item for sublist in mlp_12_predict for item in sublist]\n",
    "temp_test = np.array(temp_test).reshape(len(temp_test),1)\n",
    "mlp_12_predict_list = np.array(mlp_12_predict_list).reshape(len(temp_test),1)\n",
    "forecast_accuracy(mlp_12_predict_list, temp_test)\n",
    "\n",
    "print(mlp_12_predict_list.shape)\n",
    "plt.plot(temp_test)\n",
    "plt.plot(mlp_12_predict_list, color='red')\n",
    "plt.show()"
   ]
  },
  {
   "cell_type": "markdown",
   "metadata": {},
   "source": [
    "<h1>LSTM<h1>"
   ]
  },
  {
   "cell_type": "code",
   "execution_count": null,
   "metadata": {},
   "outputs": [],
   "source": [
    "\n",
    "# choose a number of time steps\n",
    "n_steps = 3\n",
    "# split into samples\n",
    "X, y = split_sequence(raw_seq, n_steps)\n",
    "# reshape from [samples, timesteps] into [samples, timesteps, features]\n",
    "n_features = 1\n",
    "X = X.reshape((X.shape[0], X.shape[1], n_features))\n",
    "\n",
    "# define model\n",
    "model_lstm = Sequential()\n",
    "model_lstm.add(LSTM(20, activation='relu', input_shape=(n_steps, n_features)))\n",
    "model_lstm.add(Dense(1))\n",
    "model_lstm.compile(optimizer='adam', loss='mse')\n",
    "\n",
    "import time\n",
    "start_time = time.time()\n",
    "\n",
    "# fit model\n",
    "model_lstm.fit(X, y, epochs=5, verbose=0)\n",
    "\n",
    "print(\"--- %s seconds ---\" % (time.time() - start_time))"
   ]
  },
  {
   "cell_type": "code",
   "execution_count": null,
   "metadata": {},
   "outputs": [],
   "source": [
    "losses_lstm = model_lstm.history.history['loss']\n",
    "plt.figure(figsize=(12,4))\n",
    "plt.xlabel(\"Epochs\")\n",
    "plt.ylabel(\"Loss\")\n",
    "plt.xticks(np.arange(0,len(losses_lstm)+1,1))\n",
    "plt.plot(range(len(losses_lstm)),losses_lstm);"
   ]
  },
  {
   "cell_type": "code",
   "execution_count": null,
   "metadata": {},
   "outputs": [],
   "source": [
    "print(model_lstm.summary())"
   ]
  },
  {
   "cell_type": "markdown",
   "metadata": {},
   "source": [
    "<h3>Validation<h3>"
   ]
  },
  {
   "cell_type": "code",
   "execution_count": null,
   "metadata": {},
   "outputs": [],
   "source": [
    "# not really\n",
    "#residuals_test = test.to_numpy()\n",
    "#residuals_test = [item for sublist in residuals_test for item in sublist]\n",
    "temp_resid = raw_seq[-n_steps:]+residuals_restricted_test\n",
    "#print(raw_seq[-n_steps:])\n",
    "X, y = split_sequence(temp_resid, n_steps)\n",
    "X = X.reshape((X.shape[0], X.shape[1], n_features))\n",
    "\n",
    "mlp_lstm_predict = model_lstm.predict(X, verbose=0)\n",
    "print(type(mlp_lstm_predict))\n",
    "mlp_lstm_predict_list = [item for sublist in mlp_lstm_predict for item in sublist]\n",
    "mlp_lstm_predict_list = np.sum(mlp_lstm_predict_list,forecast_restricted_test)\n",
    "temp_test = np.array(temp_test).reshape(len(temp_test),1)\n",
    "mlp_lstm_predict_list = np.array(mlp_lstm_predict_list).reshape(len(temp_test),1)\n",
    "#print(forecast_accuracy(mlp_lstm_predict_list, temp_test))\n",
    "\n",
    "print(mlp_lstm_predict_list.shape)\n",
    "plt.plot(temp_test)\n",
    "plt.plot(mlp_lstm_predict_list, color='red')\n",
    "plt.show()"
   ]
  },
  {
   "cell_type": "code",
   "execution_count": null,
   "metadata": {},
   "outputs": [],
   "source": []
  },
  {
   "cell_type": "markdown",
   "metadata": {},
   "source": [
    "<h1>Average<h1>"
   ]
  },
  {
   "cell_type": "code",
   "execution_count": null,
   "metadata": {},
   "outputs": [],
   "source": [
    "result_list = []\n",
    "repetition = 20\n",
    "for i in range(repetition):\n",
    "    # choose a number of time steps\n",
    "    n_steps = 5\n",
    "    # split into samples\n",
    "    X, y = split_sequence(raw_seq, n_steps)\n",
    "\n",
    "    # define model\n",
    "    model_5_12 = Sequential()\n",
    "    model_5_12.add(Dense(12, activation='relu', input_dim=n_steps))\n",
    "    model_5_12.add(Dense(1))\n",
    "    model_5_12.compile(optimizer='adam', loss='mse')\n",
    "\n",
    "    import time\n",
    "    start_time = time.time()\n",
    "\n",
    "    # fit model\n",
    "    model_5_12.fit(X, y, epochs=2000, verbose=0)\n",
    "\n",
    "    print(\"--- %s seconds ---\" % (time.time() - start_time))\n",
    "    # RABOTAET!!!\n",
    "\n",
    "    # vanilla\n",
    "    tail_test = temp_test\n",
    "    # hybrid\n",
    "    #tail_test = residuals_restricted_test\n",
    "\n",
    "    tail_test = [item for sublist in residuals_restricted_test for item in sublist]\n",
    "\n",
    "    temp_resid = raw_seq[-n_steps:]+tail_test\n",
    "\n",
    "    X, y = split_sequence(temp_resid, n_steps)\n",
    "    mlp_12_predict = model_5_12.predict(X, verbose=0)\n",
    "    mlp_12_predict_list = [item for sublist in mlp_12_predict for item in sublist]\n",
    "    mlp_12_predict_list = np.array(mlp_12_predict_list).reshape(len(temp_test),1)\n",
    "\n",
    "    tail_test = np.array(tail_test).reshape(len(temp_test),1)\n",
    "\n",
    "    # vanilla\n",
    "    result_12_predict = mlp_12_predict_list\n",
    "    # hybrid\n",
    "    #result_8_predict = np.add(mlp_8_predict_list, predict_restricted_test)\n",
    "\n",
    "    forecast_accuracy(result_12_predict, tail_test)\n",
    "\n",
    "    #print(temp_test, residuals_restricted_test, predict_restricted_test, mlp_8_predict_list, hybrid_mlp_8_predict_list)\n",
    "    #print(temp_test.shape, forecast_restricted_test.shape, residuals_restricted_test.shape,\n",
    "    #      mlp_8_predict_list.shape, mlp_8_predict_list+forecast_restricted_test.shape, hybrid_mlp_8_predict_list.shape)\n",
    "    result_list.append(forecast_accuracy(result_12_predict, tail_test))\n",
    "\n",
    "    print(model_lstm.summary())\n",
    "    plt.plot(tail_test)\n",
    "    plt.plot(result_12_predict, color='red')\n",
    "    plt.show()\n",
    "\n",
    "result_av = []\n",
    "#print(result_av)\n",
    "for k in range(14):\n",
    "    temp = 0\n",
    "    for j in range(repetition):\n",
    "        temp += result_list[j][k]\n",
    "    result_av.append(temp/repetition)\n",
    "print(result_av)    \n",
    "\n",
    "accuracy = {'mape': result_av[0], 'me': result_av[1], 'mae': result_av[2],\n",
    "            'mpe': result_av[3], 'rmse': result_av[4],\n",
    "            'corr': result_av[5], 'minmax': result_av[6], 'scalar product': result_av[7],\n",
    "            'custom': result_av[8], 'long income': result_av[9], 'short_income': result_av[10], 'guess_sign': '{:.1%}'.format(result_av[11]),\n",
    "           'guess_+': '{:.1%}'.format(result_av[12]), 'guess_-': '{:.1%}'.format(result_av[13])}\n",
    "for i in accuracy:\n",
    "    print (i,':',accuracy[i])"
   ]
  },
  {
   "cell_type": "code",
   "execution_count": null,
   "metadata": {},
   "outputs": [],
   "source": [
    "print(result_list)\n",
    "result_av = []\n",
    "#print(result_av)\n",
    "for k in range(9):\n",
    "    temp = 0\n",
    "    for j in range(20):\n",
    "        temp += result_list[j][k]\n",
    "    result_av.append(temp/20)\n",
    "print(result_av)\n",
    "\n",
    "accuracy = {'mape': result_av[0], 'me': result_av[1], 'mae': result_av[2],\n",
    "            'mpe': result_av[3], 'rmse': result_av[4],\n",
    "            'corr': result_av[5], 'minmax': result_av[6],\n",
    "            'custom': result_av[7], 'guess_sign': '{:.1%}'.format(result_av[8]),\n",
    "           'guess_+': '{:.1%}'.format(result_av[9]), 'guess_+': '{:.1%}'.format(result_av[10])}\n",
    "for i in accuracy:\n",
    "    print (i,':',accuracy[i])"
   ]
  },
  {
   "cell_type": "code",
   "execution_count": null,
   "metadata": {
    "scrolled": true
   },
   "outputs": [],
   "source": [
    "n_steps = 5\n",
    "repetition = 20\n",
    "\n",
    "t_t = test.values\n",
    "t_t = [item for sublist in t_t for item in sublist]\n",
    "\n",
    "for kakaya_epokha_prashla in range(100, 200, 15):\n",
    "    result_list = []\n",
    "\n",
    "    for i in range(repetition):\n",
    "\n",
    "        # choose a number of time steps\n",
    "        # split into samples\n",
    "        X, y = split_sequence(raw_seq, n_steps)\n",
    "        # reshape from [samples, timesteps] into [samples, timesteps, features]\n",
    "        n_features = 1\n",
    "        X = X.reshape((X.shape[0], X.shape[1], n_features))\n",
    "\n",
    "        # define model\n",
    "        model_lstm = Sequential()\n",
    "        model_lstm.add(LSTM(20, activation='relu', input_shape=(n_steps, n_features)))\n",
    "        model_lstm.add(Dense(1))\n",
    "        model_lstm.compile(optimizer='adam', loss='mse')\n",
    "\n",
    "        import time\n",
    "        start_time = time.time()\n",
    "\n",
    "        # fit model\n",
    "        model_lstm.fit(X, y, epochs=kakaya_epokha_prashla, verbose=0)\n",
    "\n",
    "        print(\"--- %s seconds ---\" % (time.time() - start_time))\n",
    "\n",
    "        # vanilla\n",
    "        tail_test = temp_test\n",
    "        # hybrid\n",
    "        #tail_test = residuals_restricted_test\n",
    "\n",
    "        tail_test = [item for sublist in tail_test for item in sublist]\n",
    "\n",
    "        temp_resid = raw_seq[-n_steps:]+tail_test\n",
    "        X, y = split_sequence(temp_resid, n_steps)\n",
    "        X = X.reshape((X.shape[0], X.shape[1], n_features))\n",
    "\n",
    "        mlp_8_predict = model_lstm.predict(X, verbose=0)\n",
    "        mlp_8_predict_list = [item for sublist in mlp_8_predict for item in sublist]\n",
    "        mlp_8_predict_list = np.array(mlp_8_predict_list).reshape(len(temp_test),1)\n",
    "\n",
    "        tail_test = np.array(tail_test).reshape(len(temp_test),1)\n",
    "\n",
    "        # vanilla\n",
    "        result_8_predict = mlp_8_predict_list\n",
    "\n",
    "        #forecast_accuracy(result_8_predict, tail_test)\n",
    "\n",
    "        #print(temp_test, residuals_restricted_test, predict_restricted_test, mlp_8_predict_list, hybrid_mlp_8_predict_list)\n",
    "        #print(temp_test.shape, forecast_restricted_test.shape, residuals_restricted_test.shape,\n",
    "        #      mlp_8_predict_list.shape, mlp_8_predict_list+forecast_restricted_test.shape, hybrid_mlp_8_predict_list.shape)\n",
    "        result_list.append(forecast_accuracy(result_8_predict, tail_test))\n",
    "\n",
    "        #print(model_3_8.summary())\n",
    "        plt.plot(tail_test)\n",
    "        plt.plot(result_8_predict, color='red')\n",
    "        plt.show()\n",
    "\n",
    "        #print(result_list)\n",
    "    #print(result_list[9][8])\n",
    "    result_av = []\n",
    "    #print(result_av)\n",
    "    for k in range(14):\n",
    "        temp = 0\n",
    "        for j in range(repetition):\n",
    "            temp += result_list[j][k]\n",
    "        result_av.append(temp/repetition)\n",
    "    print(kakaya_epokha_prashla)\n",
    "    print(result_av)    \n",
    "\n",
    "    accuracy = {'mape': result_av[0], 'me': result_av[1], 'mae': result_av[2],\n",
    "            'mpe': result_av[3], 'rmse': result_av[4],\n",
    "            'corr': result_av[5], 'minmax': result_av[6], 'scalar product': result_av[7],\n",
    "            'custom': result_av[8], 'long income': result_av[9], 'short_income': result_av[10], 'guess_sign': '{:.1%}'.format(result_av[11]),\n",
    "           'guess_+': '{:.1%}'.format(result_av[12]), 'guess_-': '{:.1%}'.format(result_av[13])}\n",
    "    for i in accuracy:\n",
    "        print (i,':',accuracy[i])\n",
    "    print(result_av)\n",
    "    "
   ]
  },
  {
   "cell_type": "code",
   "execution_count": null,
   "metadata": {},
   "outputs": [],
   "source": []
  },
  {
   "cell_type": "code",
   "execution_count": null,
   "metadata": {},
   "outputs": [],
   "source": []
  }
 ],
 "metadata": {
  "colab": {
   "collapsed_sections": [],
   "name": "Too good to be code.ipynb",
   "provenance": []
  },
  "kernelspec": {
   "display_name": "Python 3",
   "language": "python",
   "name": "python3"
  },
  "language_info": {
   "codemirror_mode": {
    "name": "ipython",
    "version": 3
   },
   "file_extension": ".py",
   "mimetype": "text/x-python",
   "name": "python",
   "nbconvert_exporter": "python",
   "pygments_lexer": "ipython3",
   "version": "3.7.10"
  },
  "widgets": {
   "application/vnd.jupyter.widget-state+json": {
    "11a6fe20f77a43b6b60252882ca12008": {
     "model_module": "@jupyter-widgets/base",
     "model_name": "LayoutModel",
     "state": {
      "_model_module": "@jupyter-widgets/base",
      "_model_module_version": "1.2.0",
      "_model_name": "LayoutModel",
      "_view_count": null,
      "_view_module": "@jupyter-widgets/base",
      "_view_module_version": "1.2.0",
      "_view_name": "LayoutView",
      "align_content": null,
      "align_items": null,
      "align_self": null,
      "border": null,
      "bottom": null,
      "display": null,
      "flex": null,
      "flex_flow": null,
      "grid_area": null,
      "grid_auto_columns": null,
      "grid_auto_flow": null,
      "grid_auto_rows": null,
      "grid_column": null,
      "grid_gap": null,
      "grid_row": null,
      "grid_template_areas": null,
      "grid_template_columns": null,
      "grid_template_rows": null,
      "height": null,
      "justify_content": null,
      "justify_items": null,
      "left": null,
      "margin": null,
      "max_height": null,
      "max_width": null,
      "min_height": null,
      "min_width": null,
      "object_fit": null,
      "object_position": null,
      "order": null,
      "overflow": null,
      "overflow_x": null,
      "overflow_y": null,
      "padding": null,
      "right": null,
      "top": null,
      "visibility": null,
      "width": null
     }
    },
    "1e4578d5c49a41c793bdc476a6c9843b": {
     "model_module": "@jupyter-widgets/controls",
     "model_name": "DescriptionStyleModel",
     "state": {
      "_model_module": "@jupyter-widgets/controls",
      "_model_module_version": "1.5.0",
      "_model_name": "DescriptionStyleModel",
      "_view_count": null,
      "_view_module": "@jupyter-widgets/base",
      "_view_module_version": "1.2.0",
      "_view_name": "StyleView",
      "description_width": ""
     }
    },
    "20611681f4484113a1accb79ee937ff7": {
     "model_module": "@jupyter-widgets/base",
     "model_name": "LayoutModel",
     "state": {
      "_model_module": "@jupyter-widgets/base",
      "_model_module_version": "1.2.0",
      "_model_name": "LayoutModel",
      "_view_count": null,
      "_view_module": "@jupyter-widgets/base",
      "_view_module_version": "1.2.0",
      "_view_name": "LayoutView",
      "align_content": null,
      "align_items": null,
      "align_self": null,
      "border": null,
      "bottom": null,
      "display": null,
      "flex": null,
      "flex_flow": null,
      "grid_area": null,
      "grid_auto_columns": null,
      "grid_auto_flow": null,
      "grid_auto_rows": null,
      "grid_column": null,
      "grid_gap": null,
      "grid_row": null,
      "grid_template_areas": null,
      "grid_template_columns": null,
      "grid_template_rows": null,
      "height": null,
      "justify_content": null,
      "justify_items": null,
      "left": null,
      "margin": null,
      "max_height": null,
      "max_width": null,
      "min_height": null,
      "min_width": null,
      "object_fit": null,
      "object_position": null,
      "order": null,
      "overflow": null,
      "overflow_x": null,
      "overflow_y": null,
      "padding": null,
      "right": null,
      "top": null,
      "visibility": null,
      "width": null
     }
    },
    "457e95926c0c4a12bfee72c5a9b2c6b5": {
     "model_module": "@jupyter-widgets/controls",
     "model_name": "HBoxModel",
     "state": {
      "_dom_classes": [],
      "_model_module": "@jupyter-widgets/controls",
      "_model_module_version": "1.5.0",
      "_model_name": "HBoxModel",
      "_view_count": null,
      "_view_module": "@jupyter-widgets/controls",
      "_view_module_version": "1.5.0",
      "_view_name": "HBoxView",
      "box_style": "",
      "children": [
       "IPY_MODEL_9d1f7f7043214e02b959759c3e6db75f",
       "IPY_MODEL_8657382301fa40f6bdf75e063e817676"
      ],
      "layout": "IPY_MODEL_11a6fe20f77a43b6b60252882ca12008"
     }
    },
    "668ca340833548cbb7e5518583dc22bd": {
     "model_module": "@jupyter-widgets/base",
     "model_name": "LayoutModel",
     "state": {
      "_model_module": "@jupyter-widgets/base",
      "_model_module_version": "1.2.0",
      "_model_name": "LayoutModel",
      "_view_count": null,
      "_view_module": "@jupyter-widgets/base",
      "_view_module_version": "1.2.0",
      "_view_name": "LayoutView",
      "align_content": null,
      "align_items": null,
      "align_self": null,
      "border": null,
      "bottom": null,
      "display": null,
      "flex": null,
      "flex_flow": null,
      "grid_area": null,
      "grid_auto_columns": null,
      "grid_auto_flow": null,
      "grid_auto_rows": null,
      "grid_column": null,
      "grid_gap": null,
      "grid_row": null,
      "grid_template_areas": null,
      "grid_template_columns": null,
      "grid_template_rows": null,
      "height": null,
      "justify_content": null,
      "justify_items": null,
      "left": null,
      "margin": null,
      "max_height": null,
      "max_width": null,
      "min_height": null,
      "min_width": null,
      "object_fit": null,
      "object_position": null,
      "order": null,
      "overflow": null,
      "overflow_x": null,
      "overflow_y": null,
      "padding": null,
      "right": null,
      "top": null,
      "visibility": null,
      "width": null
     }
    },
    "782c9b5a0e974f72a0468d8fa2d2e502": {
     "model_module": "@jupyter-widgets/controls",
     "model_name": "ProgressStyleModel",
     "state": {
      "_model_module": "@jupyter-widgets/controls",
      "_model_module_version": "1.5.0",
      "_model_name": "ProgressStyleModel",
      "_view_count": null,
      "_view_module": "@jupyter-widgets/base",
      "_view_module_version": "1.2.0",
      "_view_name": "StyleView",
      "bar_color": null,
      "description_width": "initial"
     }
    },
    "8657382301fa40f6bdf75e063e817676": {
     "model_module": "@jupyter-widgets/controls",
     "model_name": "HTMLModel",
     "state": {
      "_dom_classes": [],
      "_model_module": "@jupyter-widgets/controls",
      "_model_module_version": "1.5.0",
      "_model_name": "HTMLModel",
      "_view_count": null,
      "_view_module": "@jupyter-widgets/controls",
      "_view_module_version": "1.5.0",
      "_view_name": "HTMLView",
      "description": "",
      "description_tooltip": null,
      "layout": "IPY_MODEL_668ca340833548cbb7e5518583dc22bd",
      "placeholder": "​",
      "style": "IPY_MODEL_1e4578d5c49a41c793bdc476a6c9843b",
      "value": " 36/36 [12:15&lt;00:00, 20.44s/it]"
     }
    },
    "9d1f7f7043214e02b959759c3e6db75f": {
     "model_module": "@jupyter-widgets/controls",
     "model_name": "FloatProgressModel",
     "state": {
      "_dom_classes": [],
      "_model_module": "@jupyter-widgets/controls",
      "_model_module_version": "1.5.0",
      "_model_name": "FloatProgressModel",
      "_view_count": null,
      "_view_module": "@jupyter-widgets/controls",
      "_view_module_version": "1.5.0",
      "_view_name": "ProgressView",
      "bar_style": "success",
      "description": "100%",
      "description_tooltip": null,
      "layout": "IPY_MODEL_20611681f4484113a1accb79ee937ff7",
      "max": 36,
      "min": 0,
      "orientation": "horizontal",
      "style": "IPY_MODEL_782c9b5a0e974f72a0468d8fa2d2e502",
      "value": 36
     }
    }
   }
  }
 },
 "nbformat": 4,
 "nbformat_minor": 1
}
